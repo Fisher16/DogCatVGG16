{
 "cells": [
  {
   "cell_type": "code",
   "execution_count": 28,
   "metadata": {},
   "outputs": [],
   "source": [
    "import shutil\n",
    "train_n=1000\n",
    "for i in range(train_n):\n",
    "    shutil.copy(f'dc/train/cat.{i}.jpg',f'dc/train_1k/cats/{i}.jpg')\n",
    "    shutil.copy(f'dc/train/dog.{i}.jpg',f'dc/train_1k/dogs/{i}.jpg')\n",
    "val_n=250\n",
    "for i in range(train_n+1,train_n+val_n+1):\n",
    "    shutil.copy(f'dc/train/cat.{i}.jpg',f'dc/val/cats/{i}.jpg')\n",
    "    shutil.copy(f'dc/train/dog.{i}.jpg',f'dc/val/dogs/{i}.jpg')"
   ]
  },
  {
   "cell_type": "code",
   "execution_count": 29,
   "metadata": {},
   "outputs": [
    {
     "name": "stdout",
     "output_type": "stream",
     "text": [
      "_________________________________________________________________\n",
      "Layer (type)                 Output Shape              Param #   \n",
      "=================================================================\n",
      "input_15 (InputLayer)        (None, None, None, 3)     0         \n",
      "_________________________________________________________________\n",
      "block1_conv1 (Conv2D)        (None, None, None, 64)    1792      \n",
      "_________________________________________________________________\n",
      "block1_conv2 (Conv2D)        (None, None, None, 64)    36928     \n",
      "_________________________________________________________________\n",
      "block1_pool (MaxPooling2D)   (None, None, None, 64)    0         \n",
      "_________________________________________________________________\n",
      "block2_conv1 (Conv2D)        (None, None, None, 128)   73856     \n",
      "_________________________________________________________________\n",
      "block2_conv2 (Conv2D)        (None, None, None, 128)   147584    \n",
      "_________________________________________________________________\n",
      "block2_pool (MaxPooling2D)   (None, None, None, 128)   0         \n",
      "_________________________________________________________________\n",
      "block3_conv1 (Conv2D)        (None, None, None, 256)   295168    \n",
      "_________________________________________________________________\n",
      "block3_conv2 (Conv2D)        (None, None, None, 256)   590080    \n",
      "_________________________________________________________________\n",
      "block3_conv3 (Conv2D)        (None, None, None, 256)   590080    \n",
      "_________________________________________________________________\n",
      "block3_pool (MaxPooling2D)   (None, None, None, 256)   0         \n",
      "_________________________________________________________________\n",
      "block4_conv1 (Conv2D)        (None, None, None, 512)   1180160   \n",
      "_________________________________________________________________\n",
      "block4_conv2 (Conv2D)        (None, None, None, 512)   2359808   \n",
      "_________________________________________________________________\n",
      "block4_conv3 (Conv2D)        (None, None, None, 512)   2359808   \n",
      "_________________________________________________________________\n",
      "block4_pool (MaxPooling2D)   (None, None, None, 512)   0         \n",
      "_________________________________________________________________\n",
      "block5_conv1 (Conv2D)        (None, None, None, 512)   2359808   \n",
      "_________________________________________________________________\n",
      "block5_conv2 (Conv2D)        (None, None, None, 512)   2359808   \n",
      "_________________________________________________________________\n",
      "block5_conv3 (Conv2D)        (None, None, None, 512)   2359808   \n",
      "_________________________________________________________________\n",
      "block5_pool (MaxPooling2D)   (None, None, None, 512)   0         \n",
      "=================================================================\n",
      "Total params: 14,714,688\n",
      "Trainable params: 14,714,688\n",
      "Non-trainable params: 0\n",
      "_________________________________________________________________\n"
     ]
    }
   ],
   "source": [
    "from keras.preprocessing import image\n",
    "from keras.applications.vgg16 import VGG16\n",
    "from keras.applications.vgg16 import preprocess_input\n",
    "import numpy as np\n",
    "\n",
    "model = VGG16(weights='imagenet', include_top=False)\n",
    "model.summary()\n",
    "\n",
    "test=image.load_img('dc/train/cat.0.jpg', target_size=(224, 224))\n",
    "image.save_img('dc/prez/after_scale.jpg', test)\n",
    "\n",
    "def extract_features(path):\n",
    "    #VGG16 trained on images of size 224x224\n",
    "    img = image.load_img(path, target_size=(224, 224))\n",
    "    img_data = image.img_to_array(img)\n",
    "    img_data = np.expand_dims(img_data, axis=0)\n",
    "    img_data = preprocess_input(img_data)\n",
    "\n",
    "    vgg16_feature = model.predict(img_data)\n",
    "\n",
    "    return vgg16_feature.flatten()"
   ]
  },
  {
   "cell_type": "code",
   "execution_count": 30,
   "metadata": {},
   "outputs": [
    {
     "name": "stdout",
     "output_type": "stream",
     "text": [
      "0.0\n",
      "1.0\n",
      "2.0\n",
      "3.0\n",
      "4.0\n",
      "5.0\n",
      "6.0\n",
      "7.0\n",
      "8.0\n",
      "9.0\n",
      "CPU times: user 1h 3min 25s, sys: 1min 53s, total: 1h 5min 19s\n",
      "Wall time: 6min 6s\n"
     ]
    }
   ],
   "source": [
    "%%time\n",
    "arr_train=[]\n",
    "path='dc/train_1k/{}/{}.jpg'\n",
    "for i in range(train_n):\n",
    "    if(i%100==0):\n",
    "        print(i/100)\n",
    "    arr_train.append(np.concatenate(([1],extract_features(path.format('dogs',str(i))))))\n",
    "    arr_train.append(np.concatenate(([0],extract_features(path.format('cats',str(i))))))"
   ]
  },
  {
   "cell_type": "code",
   "execution_count": 31,
   "metadata": {},
   "outputs": [],
   "source": [
    "import pandas as pd\n",
    "df=pd.DataFrame(np.array(arr_train))\n",
    "#extracted features first col target\n",
    "#df.to_csv('dog_cats.vgg16.features.csv')"
   ]
  },
  {
   "cell_type": "code",
   "execution_count": 32,
   "metadata": {},
   "outputs": [],
   "source": [
    "from sklearn.preprocessing import StandardScaler\n",
    "# Separating out the features\n",
    "x = df.loc[:, 1:].values\n",
    "# Separating out the target\n",
    "y = df.loc[:,0].values\n",
    "# Standardizing the features\n",
    "x = StandardScaler().fit_transform(x)"
   ]
  },
  {
   "cell_type": "code",
   "execution_count": 45,
   "metadata": {},
   "outputs": [],
   "source": [
    "from sklearn.decomposition import PCA\n",
    "pca = PCA(n_components=3)\n",
    "principalComponents = pca.fit_transform(x)\n",
    "principalDf = pd.DataFrame(data = principalComponents\n",
    "             , columns = ['principal component 1', 'principal component 2','pc3'])"
   ]
  },
  {
   "cell_type": "code",
   "execution_count": 46,
   "metadata": {},
   "outputs": [],
   "source": [
    "finalDf = pd.concat([principalDf, df[0]], axis = 1)\n",
    "finalDf.columns=['pc1','pc2','pc3','target']\n",
    "finalDf.to_csv('dog_cats.1k.vgg16.features.pca.csv')"
   ]
  },
  {
   "cell_type": "code",
   "execution_count": 59,
   "metadata": {},
   "outputs": [
    {
     "name": "stdout",
     "output_type": "stream",
     "text": [
      "Using matplotlib backend: GTK3Agg\n"
     ]
    },
    {
     "name": "stderr",
     "output_type": "stream",
     "text": [
      "/usr/lib/python3/dist-packages/ipykernel_launcher.py:21: UserWarning: You have mixed positional and keyword arguments, some input may be discarded.\n"
     ]
    }
   ],
   "source": [
    "%matplotlib \n",
    "from matplotlib import pyplot as plt\n",
    "from mpl_toolkits.mplot3d import Axes3D\n",
    "fig = plt.figure(figsize = (10,10))\n",
    "ax = fig.add_subplot(111,projection='3d') \n",
    "ax.set_xlabel('Principal Component 1', fontsize = 15)\n",
    "ax.set_ylabel('Principal Component 2', fontsize = 15)\n",
    "ax.set_zlabel('Principal Component 3', fontsize = 15)\n",
    "ax.set_title('3 component PCA', fontsize = 20)\n",
    "colors = ['r', 'b']\n",
    "targets = [1,0]\n",
    "for target, color in zip(targets,colors):\n",
    "    indicesToKeep = finalDf['target'] == target\n",
    "    ax.scatter(finalDf.loc[indicesToKeep, 'pc1'],\n",
    "               finalDf.loc[indicesToKeep, 'pc2'],\n",
    "               finalDf.loc[indicesToKeep, 'pc3'],\n",
    "               c = color,\n",
    "               s = 25,\n",
    "               alpha=0.25\n",
    "                )\n",
    "ax.legend(targets,labels=['Dog','Cat'])\n",
    "ax.grid()"
   ]
  },
  {
   "cell_type": "code",
   "execution_count": 65,
   "metadata": {},
   "outputs": [
    {
     "name": "stdout",
     "output_type": "stream",
     "text": [
      "11.0\n",
      "12.0\n"
     ]
    }
   ],
   "source": [
    "ds_train=finalDf\n",
    "\n",
    "arr_val=[]\n",
    "path='dc/val/{}/{}.jpg'\n",
    "for i in range(train_n+1,train_n+val_n+1):\n",
    "    if(i%50==0):\n",
    "        print(i/50)\n",
    "    arr_val.append(np.concatenate(([1],extract_features(path.format('dogs',str(i))))))\n",
    "    arr_val.append(np.concatenate(([0],extract_features(path.format('cats',str(i))))))\n",
    "df_val=pd.DataFrame(np.array(arr_val))\n",
    "x_val = df_val.loc[:, 1:].values\n",
    "y_val = df_val.loc[:,0].values\n",
    "x_val = StandardScaler().fit_transform(x_val)\n",
    "pca_val = pd.DataFrame(data = pca.transform(x_val), columns = ['pc1', 'pc2','pc3'])\n",
    "ds_val = pd.concat([pca_val, df_val[0]], axis = 1)\n",
    "ds_val.columns=['pc1','pc2','pc3','target']\n",
    "ds_val.to_csv('dog_cats.1k.vgg16.features.pca.val.csv')"
   ]
  },
  {
   "cell_type": "code",
   "execution_count": 89,
   "metadata": {},
   "outputs": [
    {
     "name": "stdout",
     "output_type": "stream",
     "text": [
      "Accuracy: 94.0%\n"
     ]
    }
   ],
   "source": [
    "from sklearn.naive_bayes import GaussianNB\n",
    "gnb = GaussianNB()\n",
    "nb_model = gnb.fit(ds_train.iloc[:,:-1], ds_train.iloc[:,-1])\n",
    "y_pred=nb_model.predict(ds_val.iloc[:,:-1])\n",
    "n=ds_val.iloc[:,:-1].shape[0]\n",
    "acc=(ds_val.iloc[:,-1]== y_pred).sum()/n\n",
    "print(\"Accuracy: {}%\".format(acc*100))"
   ]
  },
  {
   "cell_type": "code",
   "execution_count": 99,
   "metadata": {},
   "outputs": [],
   "source": [
    "miss=ds_val[ds_val.iloc[:,-1]!= y_pred].index\n",
    "for i in miss:\n",
    "    if(i%2==0):\n",
    "        shutil.copy('dc/val/dogs/{}.jpg'.format(int(1000+i/2)),'dc/val/miss_nb')\n",
    "    else:\n",
    "        shutil.copy('dc/val/cats/{}.jpg'.format(int(1000+i/2)),'dc/val/miss_nb')"
   ]
  },
  {
   "cell_type": "code",
   "execution_count": 100,
   "metadata": {},
   "outputs": [
    {
     "name": "stdout",
     "output_type": "stream",
     "text": [
      "Accuracy: 96.2%\n"
     ]
    }
   ],
   "source": [
    "from sklearn import svm\n",
    "svm_model = svm.SVC(gamma='scale')\n",
    "svm_model.fit(ds_train.iloc[:,:-1], ds_train.iloc[:,-1])\n",
    "y_pred=svm_model.predict(ds_val.iloc[:,:-1])\n",
    "acc=(ds_val.iloc[:,-1]== y_pred).sum()/n\n",
    "print(\"Accuracy: {}%\".format(acc*100))"
   ]
  },
  {
   "cell_type": "code",
   "execution_count": 103,
   "metadata": {},
   "outputs": [],
   "source": [
    "miss=ds_val[ds_val.iloc[:,-1]!= y_pred].index\n",
    "for i in miss[1:]:\n",
    "    if(i%2==0):\n",
    "        shutil.copy('dc/val/dogs/{}.jpg'.format(int(1000+i/2)),'dc/val/miss_svm')\n",
    "    else:\n",
    "        shutil.copy('dc/val/cats/{}.jpg'.format(int(1000+i/2)),'dc/val/miss_svm')"
   ]
  },
  {
   "cell_type": "code",
   "execution_count": null,
   "metadata": {},
   "outputs": [],
   "source": []
  }
 ],
 "metadata": {
  "kernelspec": {
   "display_name": "Python 3",
   "language": "python",
   "name": "python3"
  },
  "language_info": {
   "codemirror_mode": {
    "name": "ipython",
    "version": 3
   },
   "file_extension": ".py",
   "mimetype": "text/x-python",
   "name": "python",
   "nbconvert_exporter": "python",
   "pygments_lexer": "ipython3",
   "version": "3.6.7"
  }
 },
 "nbformat": 4,
 "nbformat_minor": 2
}
